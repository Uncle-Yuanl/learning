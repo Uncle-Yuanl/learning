{
 "cells": [
  {
   "cell_type": "markdown",
   "metadata": {},
   "source": [
    "# 递归将嵌套字典转为类属性"
   ]
  },
  {
   "cell_type": "markdown",
   "metadata": {},
   "source": [
    "## 测试类的递归初始化"
   ]
  },
  {
   "cell_type": "code",
   "execution_count": 23,
   "metadata": {},
   "outputs": [],
   "source": [
    "class Recurinstance:\n",
    "    def __init__(self, text):\n",
    "        if not text:\n",
    "            return \n",
    "        self.down = Recurinstance(text[1:])\n",
    "        self.text = text"
   ]
  },
  {
   "cell_type": "code",
   "execution_count": 54,
   "metadata": {},
   "outputs": [
    {
     "name": "stdout",
     "output_type": "stream",
     "text": [
      "abc\n",
      "bc\n",
      "c\n"
     ]
    }
   ],
   "source": [
    "t = Recurinstance('abc')\n",
    "print(t.text)\n",
    "print(t.down.text)\n",
    "print(t.down.down.text)"
   ]
  },
  {
   "cell_type": "code",
   "execution_count": 30,
   "metadata": {},
   "outputs": [
    {
     "data": {
      "text/plain": [
       "'c'"
      ]
     },
     "execution_count": 30,
     "metadata": {},
     "output_type": "execute_result"
    }
   ],
   "source": [
    "t.down.down.text"
   ]
  },
  {
   "cell_type": "code",
   "execution_count": 23,
   "metadata": {},
   "outputs": [],
   "source": [
    "class Config:\n",
    "    __depth = 0\n",
    "\n",
    "    def __new__(cls, *args, **kwargs):\n",
    "        cls.__depth += 1\n",
    "        return super().__new__(cls)\n",
    "\n",
    "    def __init__(self, dconfig):\n",
    "        # self.__depth += 1\n",
    "        for key in dconfig:\n",
    "            if not isinstance(dconfig[key], dict):\n",
    "                continue\n",
    "            dconfig[key] = Config(dconfig[key])\n",
    "        \n",
    "        self.__dict__.update(dconfig)\n",
    "\n",
    "    def depth(self):\n",
    "        \"\"\"返回嵌套的深度\n",
    "        \"\"\"\n",
    "        return self.__depth\n"
   ]
  },
  {
   "cell_type": "code",
   "execution_count": 24,
   "metadata": {},
   "outputs": [
    {
     "data": {
      "text/plain": [
       "{'A': '10',\n",
       " 'B': {'b1': 1, 'b2': 2},\n",
       " 'C': {'c1': {'c11': 1, 'c12': 2}, 'c2': 10}}"
      ]
     },
     "execution_count": 24,
     "metadata": {},
     "output_type": "execute_result"
    }
   ],
   "source": [
    "dconfig = {\n",
    "    'A': '10',\n",
    "    'B': {\n",
    "        'b1': 1,\n",
    "        'b2': 2    \n",
    "    },\n",
    "    'C': {\n",
    "        'c1': {\n",
    "            'c11': 1,\n",
    "            'c12': 2\n",
    "        },\n",
    "        'c2': 10\n",
    "    }\n",
    "}\n",
    "\n",
    "dconfig"
   ]
  },
  {
   "cell_type": "code",
   "execution_count": 25,
   "metadata": {},
   "outputs": [],
   "source": [
    "config = Config(dconfig)"
   ]
  },
  {
   "cell_type": "code",
   "execution_count": 53,
   "metadata": {},
   "outputs": [
    {
     "data": {
      "text/plain": [
       "(<__main__.Config at 0x7ff4a8460d90>, '10')"
      ]
     },
     "execution_count": 53,
     "metadata": {},
     "output_type": "execute_result"
    }
   ],
   "source": [
    "config.A, config.B"
   ]
  },
  {
   "cell_type": "code",
   "execution_count": 27,
   "metadata": {},
   "outputs": [
    {
     "data": {
      "text/plain": [
       "4"
      ]
     },
     "execution_count": 27,
     "metadata": {},
     "output_type": "execute_result"
    }
   ],
   "source": [
    "config.depth()"
   ]
  },
  {
   "cell_type": "code",
   "execution_count": null,
   "metadata": {},
   "outputs": [],
   "source": []
  }
 ],
 "metadata": {
  "kernelspec": {
   "display_name": "Python 3.9.13 64-bit ('torch')",
   "language": "python",
   "name": "python3"
  },
  "language_info": {
   "codemirror_mode": {
    "name": "ipython",
    "version": 3
   },
   "file_extension": ".py",
   "mimetype": "text/x-python",
   "name": "python",
   "nbconvert_exporter": "python",
   "pygments_lexer": "ipython3",
   "version": "3.9.13"
  },
  "orig_nbformat": 4,
  "vscode": {
   "interpreter": {
    "hash": "db8221a398a79801bb033b7cb745563c5268427cc80fc08803fb224dff6e2e49"
   }
  }
 },
 "nbformat": 4,
 "nbformat_minor": 2
}
